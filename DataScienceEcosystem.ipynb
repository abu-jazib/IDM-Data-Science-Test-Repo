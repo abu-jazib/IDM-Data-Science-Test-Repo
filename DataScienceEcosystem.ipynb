{
 "cells": [
  {
   "cell_type": "markdown",
   "id": "5300c0e7",
   "metadata": {},
   "source": [
    "# Data Science tools And Ecosystem"
   ]
  },
  {
   "cell_type": "markdown",
   "id": "d49fd3dc",
   "metadata": {},
   "source": [
    "##### In this Notebook, data Science Tools and Ecosystem are summarized"
   ]
  },
  {
   "cell_type": "markdown",
   "id": "715130ef",
   "metadata": {},
   "source": [
    "**Objectives:**\n",
    "- What are the popular languages that data scientist use frequently.\n",
    "- Commonly used libraries in the field of data science.\n",
    "- what is Git and GitHub. \n",
    "- Introduction to R and R Studio."
   ]
  },
  {
   "cell_type": "markdown",
   "id": "ff6b942a",
   "metadata": {},
   "source": [
    "Some of the Popular languages that data scientists use are:\n",
    "1. Python \n",
    "2. SQL \n",
    "3. R"
   ]
  },
  {
   "cell_type": "markdown",
   "id": "06da75f9",
   "metadata": {},
   "source": [
    "Some of the commonly used libraries used by the Data Scientist include:\n",
    "1. Numpy\n",
    "2. Pandas\n",
    "3. Matplotlib\n",
    "4. Scikit-learn \n",
    "5. TensorFlows\n",
    "6. GGplot\n",
    "7. Seaborn"
   ]
  },
  {
   "cell_type": "markdown",
   "id": "95b161c5",
   "metadata": {},
   "source": [
    "|Data Science Tools|\n",
    "|------------------|\n",
    "|Data Visualization Tools|\n",
    "|Machine Learning & AI Tools|\n",
    "|Big Data Tools|\n",
    "|Data Management Tools|\n",
    "|Collaboration & Notebooks|"
   ]
  },
  {
   "cell_type": "markdown",
   "id": "f6b80023",
   "metadata": {},
   "source": [
    "### Below are a few examples of evaluating arithmetic expressions in Python."
   ]
  },
  {
   "cell_type": "code",
   "execution_count": 6,
   "id": "eb8faea9",
   "metadata": {},
   "outputs": [
    {
     "data": {
      "text/plain": [
       "17"
      ]
     },
     "execution_count": 6,
     "metadata": {},
     "output_type": "execute_result"
    }
   ],
   "source": [
    "(3*4)+5 \n",
    "# This a simple arithmetic expression to multiply then add integers\n"
   ]
  },
  {
   "cell_type": "code",
   "execution_count": 7,
   "id": "94b34d8e",
   "metadata": {},
   "outputs": [
    {
     "name": "stdout",
     "output_type": "stream",
     "text": [
      "3.3333333333333335\n"
     ]
    }
   ],
   "source": [
    "min = 200\n",
    "hour = 200 / 60\n",
    "print(hour)\n",
    "# This will convert 200 minutes to hours by dividing by 60"
   ]
  },
  {
   "cell_type": "markdown",
   "id": "c69a2bb0",
   "metadata": {},
   "source": [
    "## Author\n",
    "Abu Jazib"
   ]
  }
 ],
 "metadata": {
  "kernelspec": {
   "display_name": "Python 3",
   "language": "python",
   "name": "python3"
  },
  "language_info": {
   "codemirror_mode": {
    "name": "ipython",
    "version": 3
   },
   "file_extension": ".py",
   "mimetype": "text/x-python",
   "name": "python",
   "nbconvert_exporter": "python",
   "pygments_lexer": "ipython3",
   "version": "3.10.11"
  }
 },
 "nbformat": 4,
 "nbformat_minor": 5
}
